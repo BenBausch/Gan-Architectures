{
 "cells": [
  {
   "cell_type": "markdown",
   "metadata": {},
   "source": [
    "# Generative Adverserial Network for Fake Image Generation\n",
    "\n",
    "In this Notebook, we will train an FC-GAN to genereate fake Mnist data.\n",
    "\n",
    "Followed by a conversion of the FC-GAN to DC-GAN, and the generation of higher resolution images.\n",
    "\n",
    "Gan Paper: https://arxiv.org/abs/1406.2661\n",
    "\n",
    "PyTorch MNist dataset : https://pytorch.org/docs/stable/torchvision/datasets.html#mnist\n",
    "\n",
    "Convert FC-Gan To DC-Gan Paper : https://arxiv.org/pdf/1511.06434.pdf\n",
    "\n",
    "List of tricks to train GANs: https://github.com/soumith/ganhacks"
   ]
  },
  {
   "cell_type": "code",
   "execution_count": 8,
   "metadata": {},
   "outputs": [
    {
     "name": "stdout",
     "output_type": "stream",
     "text": [
      "cuda:0\n"
     ]
    }
   ],
   "source": [
    "# Import the necessary modules\n",
    "\n",
    "import os\n",
    "from typing import Tuple, List\n",
    "\n",
    "import torch\n",
    "import torch.tensor as tensor\n",
    "import torch.nn as nn\n",
    "import torch.nn.functional as F\n",
    "import torch.optim as optim\n",
    "from torch.utils.data import DataLoader\n",
    "from torch.utils.data.sampler import SubsetRandomSampler\n",
    "import torchvision\n",
    "import torchvision.transforms as transforms\n",
    "\n",
    "import numpy as np\n",
    "import matplotlib.pyplot as plt\n",
    "%matplotlib inline\n",
    "\n",
    "device = torch.device(\"cuda:0\" if torch.cuda.is_available() else \"cpu\")\n",
    "print(device)"
   ]
  },
  {
   "cell_type": "markdown",
   "metadata": {},
   "source": [
    "## FC-GAN for the Generation of Fake MNIST Data\n"
   ]
  },
  {
   "cell_type": "code",
   "execution_count": 9,
   "metadata": {},
   "outputs": [],
   "source": [
    "# Frist load the MNist dataset from pytorch\n",
    "\n",
    "def load_mnist_minibatched(batch_size: int, n_train: int = 8192, n_valid: int = 1024,\n",
    "                           valid_test_batch_size: int = 1024) -> Tuple[DataLoader, DataLoader, DataLoader]:\n",
    "    train_dataset = torchvision.datasets.MNIST(\n",
    "        root='../data', train=True, transform=transforms.ToTensor(), download=True)\n",
    "    test_dataset = torchvision.datasets.MNIST(\n",
    "        root='../data', train=False, transform=transforms.ToTensor())\n",
    "\n",
    "    train_sampler = SubsetRandomSampler(range(n_train))\n",
    "    validation_sampler = SubsetRandomSampler(range(n_train, n_train+n_valid))\n",
    "\n",
    "    train_loader = DataLoader(dataset=train_dataset, batch_size=batch_size, sampler=train_sampler)\n",
    "    validation_loader = DataLoader(dataset=train_dataset, batch_size=valid_test_batch_size,\n",
    "                                   sampler=validation_sampler)\n",
    "    test_loader = torch.utils.data.DataLoader(dataset=test_dataset, batch_size=valid_test_batch_size, \n",
    "                                              shuffle=False)\n",
    "    return train_loader, validation_loader, test_loader"
   ]
  },
  {
   "cell_type": "markdown",
   "metadata": {},
   "source": [
    "### This is what the MNist data looks like:"
   ]
  },
  {
   "cell_type": "code",
   "execution_count": 10,
   "metadata": {},
   "outputs": [
    {
     "data": {
      "image/png": "[encoded data removed]",
      "text/plain": [
       "<Figure size 432x288 with 1 Axes>"
      ]
     },
     "metadata": {
      "needs_background": "light"
     },
     "output_type": "display_data"
    },
    {
     "name": "stdout",
     "output_type": "stream",
     "text": [
      "    8     6     4     9\n"
     ]
    }
   ],
   "source": [
    "batch_size = 32\n",
    "trainloader, validation_loader, test_loader = load_mnist_minibatched(batch_size)\n",
    "\n",
    "# get some random training images\n",
    "dataiter = iter(trainloader)\n",
    "images, labels = dataiter.next()\n",
    "\n",
    "classes = ('0', '1', '2', '3', '4', '5', '6', '7', '8', '9')\n",
    "\n",
    "img = torchvision.utils.make_grid(images[:4,:,:,:])\n",
    "\n",
    "# show images\n",
    "img = img / 2 + 0.5     # unnormalize\n",
    "npimg = img.numpy()\n",
    "plt.imshow(np.transpose(npimg, (1, 2, 0)))\n",
    "plt.show()\n",
    "\n",
    "# print labels\n",
    "print(' '.join('%5s' % classes[labels[j]] for j in range(4)))\n"
   ]
  },
  {
   "cell_type": "markdown",
   "metadata": {},
   "source": [
    "### The adverserial Networks:\n",
    "\n"
   ]
  },
  {
   "cell_type": "markdown",
   "metadata": {},
   "source": [
    "#### The Generative Network:\n",
    "\n",
    "Input: x values sampled from uniform distribution\n",
    "\n",
    "Output: 32 x 32 Image, that should look like the data from MNist "
   ]
  },
  {
   "cell_type": "code",
   "execution_count": 11,
   "metadata": {},
   "outputs": [],
   "source": [
    "# The Generative Network\n",
    "\n",
    "class generativeNet(nn.Module):\n",
    "    \"\"\"\n",
    "        The CNN convolutional network with architecture defined above\n",
    "    \"\"\"\n",
    "    def __init__(self):\n",
    "        super().__init__()\n",
    "        \n",
    "        self.fc1 = nn.Linear(in_features= 1, out_features=6 * 6)\n",
    "        \n",
    "        self.fc2 = nn.Linear(in_features= 6 * 6, out_features=12 * 12)\n",
    "        \n",
    "        self.fc3 = nn.Linear(in_features= 12 * 12, out_features=24 * 24)\n",
    "        \n",
    "        self.fc4 = nn.Linear(in_features= 24 * 24, out_features=28 * 28)\n",
    "        \n",
    "        self.ReLU = nn.LeakyReLU()\n",
    " \n",
    "    def forward(self, x):\n",
    "        \"\"\"\n",
    "        \n",
    "        Args:\n",
    "            x: The input tensor with shape [batch_size, feature_dim] (minibatch of data)\n",
    "        Returns:\n",
    "            scores: Pytorch tensor of shape (N, C) giving classification scores for x\n",
    "        \"\"\"\n",
    "        x = self.fc1(x)\n",
    "        x = self.ReLU(x)\n",
    "        x = self.fc2(x)\n",
    "        x = self.ReLU(x)\n",
    "        x = self.fc3(x)\n",
    "        x = self.ReLU(x)\n",
    "        x = self.fc4(x)        \n",
    "        return x"
   ]
  },
  {
   "cell_type": "markdown",
   "metadata": {},
   "source": [
    "#### The discriminative network:\n",
    "\n",
    "Input: Takes 32 x 32 Image as Input\n",
    "Output: probability of it being real data (non generated)"
   ]
  },
  {
   "cell_type": "code",
   "execution_count": 14,
   "metadata": {},
   "outputs": [],
   "source": [
    "\n",
    "\n",
    "class discrimNet(nn.Module):\n",
    "    \"\"\"\n",
    "        The CNN convolutional network with architecture defined above\n",
    "    \"\"\"\n",
    "    def __init__(self):\n",
    "        super().__init__()\n",
    "        \n",
    "        self.fc1 = nn.Linear(in_features= 28 * 28, out_features=22 * 22)\n",
    "        \n",
    "        self.fc2 = nn.Linear(in_features= 22 * 22, out_features=12 * 12)\n",
    "        \n",
    "        self.fc3 = nn.Linear(in_features= 12 * 12, out_features=6 * 6)\n",
    "        \n",
    "        # 2 class fake and real data\n",
    "        self.fc4 = nn.Linear(in_features= 6 * 6, out_features=2)\n",
    "        \n",
    "        self.ReLU = nn.LeakyReLU()\n",
    "        \n",
    "        self.soft = nn.Softmax(dim=1)\n",
    "        \n",
    "        \n",
    "    def forward(self, x):\n",
    "        \"\"\"\n",
    "        Args:\n",
    "            x: The input tensor with shape [batch_size, feature_dim] (minibatch of data)\n",
    "        Returns:\n",
    "            scores: Pytorch tensor of shape (N, C) giving classification scores for x\n",
    "        \"\"\"\n",
    "        \n",
    "        x = x.view(x.shape[0], 28 * 28)\n",
    "    \n",
    "        x = self.fc1(x)\n",
    "        x = self.ReLU(x)\n",
    "        x = self.fc2(x)\n",
    "        x = self.ReLU(x)\n",
    "        x = self.fc3(x)\n",
    "        x = self.ReLU(x)\n",
    "        x = self.fc4(x)        \n",
    "        return self.soft(x)"
   ]
  },
  {
   "cell_type": "markdown",
   "metadata": {},
   "source": [
    "### Define The Noise Prior for the Generative Network:"
   ]
  },
  {
   "cell_type": "code",
   "execution_count": 15,
   "metadata": {},
   "outputs": [
    {
     "name": "stdout",
     "output_type": "stream",
     "text": [
      "[0.63989215 0.15351386 0.57673748 0.67028862 0.71616317 0.32053762\n",
      " 0.9342423  0.82067953 0.59191109 0.07069294]\n"
     ]
    }
   ],
   "source": [
    "# Define The Noise Distribution, we us the Gaussian Nosie Distribution:\n",
    "\n",
    "# always use the same seed to get the same random variables\n",
    "# np.random.seed(0)\n",
    "\n",
    "# Here is how to sample a vector of 10 values from uniform distribution\n",
    "s = np.random.uniform(0,1, 10)\n",
    "print(s)"
   ]
  },
  {
   "cell_type": "markdown",
   "metadata": {},
   "source": [
    "### Simple helper functions\n"
   ]
  },
  {
   "cell_type": "code",
   "execution_count": 16,
   "metadata": {},
   "outputs": [],
   "source": [
    "# function for sampling the noise data\n",
    "\n",
    "def sample_noise(batch_size=batch_size):\n",
    "    noise_batch = []\n",
    "    for i in range(batch_size):\n",
    "        mu, sigma = 0, 0.1 # mean and standard deviation\n",
    "        s = np.random.normal(mu, sigma, 1)\n",
    "        #s = np.random.uniform(0,1, 10) # 10 values sample from uniform distribution\n",
    "        noise_batch.append(s)\n",
    "\n",
    "    noise_batch = torch.from_numpy(np.asarray(noise_batch)).float() \n",
    "    return noise_batch"
   ]
  },
  {
   "cell_type": "code",
   "execution_count": 17,
   "metadata": {},
   "outputs": [],
   "source": [
    "# function to plot the losses\n",
    "\n",
    "def plot_losses(loss_g, loss_d):\n",
    "    xg = [i for i in range(len(loss_g))]\n",
    "    xd = [i for i in range(len(loss_d))]\n",
    "    plt.plot( loss_g, label='g')\n",
    "    plt.plot( loss_d, label='d')\n",
    "\n",
    "    plt.xlabel('Iterations')\n",
    "    plt.ylabel('Loss')\n",
    "\n",
    "    plt.title(\"Loss of D ang G\")\n",
    "\n",
    "    plt.legend()\n",
    "\n",
    "    plt.show()"
   ]
  },
  {
   "cell_type": "markdown",
   "metadata": {},
   "source": [
    "### Train the Networks:"
   ]
  },
  {
   "cell_type": "code",
   "execution_count": 18,
   "metadata": {},
   "outputs": [
    {
     "data": {
      "text/plain": [
       "'GeForce GTX 1050'"
      ]
     },
     "execution_count": 18,
     "metadata": {},
     "output_type": "execute_result"
    }
   ],
   "source": [
    "torch.cuda.get_device_capability(device=None)\n",
    "torch.cuda.get_device_name(device=None)"
   ]
  },
  {
   "cell_type": "code",
   "execution_count": 19,
   "metadata": {},
   "outputs": [],
   "source": [
    "# calculate the real labels\n",
    "a_real = []\n",
    "a_fake = []\n",
    "for i in range(batch_size):\n",
    "    sub1 = [1]\n",
    "    sub2 = [0]\n",
    "    for j in range(1):\n",
    "        sub1.append(0)\n",
    "        sub2.append(1)\n",
    "    a_real.append(sub1)\n",
    "    a_fake.append(sub2)\n",
    "\n",
    "labels_real = torch.tensor(a_real, dtype=torch.float).cuda()\n",
    "labels_fake = torch.tensor(a_fake, dtype=torch.float).cuda()"
   ]
  },
  {
   "cell_type": "code",
   "execution_count": 110,
   "metadata": {},
   "outputs": [
    {
     "name": "stdout",
     "output_type": "stream",
     "text": [
      "Currently running epoch Nbr 0\n",
      "\t[1,   100] D loss: 1.355960795\n",
      "\t[1,   200] D loss: 0.879814294\n",
      "\t[2,   100] D loss: 0.169349231\n",
      "\t[2,   200] D loss: 0.076168384\n",
      "\t\t Running 0th iteration on G\n",
      "\t[2,   100] G loss: -0.040211215\n",
      "\t[2,   200] G loss: -0.595407950\n",
      "Currently running epoch Nbr 1\n",
      "\t[1,   100] D loss: 1.161587309\n",
      "\t[1,   200] D loss: 0.067280559\n",
      "\t[2,   100] D loss: 0.014789829\n",
      "\t[2,   200] D loss: 0.009730200\n",
      "\t\t Running 1th iteration on G\n",
      "\t[2,   100] G loss: -18.658982678\n",
      "\t[2,   200] G loss: -27.910122727\n",
      "Currently running epoch Nbr 2\n",
      "\t[1,   100] D loss: 27.912788160\n",
      "\t[1,   200] D loss: 27.911720700\n",
      "\t[2,   100] D loss: 27.911161847\n",
      "\t[2,   200] D loss: 27.911228276\n",
      "\t\t Running 2th iteration on G\n",
      "\t[2,   100] G loss: -27.910122727\n",
      "\t[2,   200] G loss: -27.910122727\n",
      "Finished Training\n"
     ]
    }
   ],
   "source": [
    "G = generativeNet()\n",
    "D = discrimNet()\n",
    "G.to(device)\n",
    "D.to(device)\n",
    "\n",
    "# Define a Loss function and optimizer\n",
    "optimizer1 = optim.SGD(D.parameters(), lr=0.001, momentum=0.9)\n",
    "optimizer2 = optim.SGD(G.parameters(), lr=0.001, momentum=0.9)\n",
    "# k = discriminator interations\n",
    "k = 2\n",
    "\n",
    "criterion = nn.BCELoss()\n",
    "\n",
    "loss_g = []\n",
    "loss_d = []\n",
    "\n",
    "# Train the network\n",
    "for epoch in range(3):\n",
    "    print(\"Currently running epoch Nbr %d\" % epoch)\n",
    "    \n",
    "    # train D for k iterations \n",
    "    for d in range(k):\n",
    "        #print(\"\\tRunning D iteration Nbr %d\" % d)\n",
    "        running_loss = 0.0\n",
    "        for i, data in enumerate(trainloader, 0):\n",
    "            inputs, labels = data[0].to(device), data[1].to(device)\n",
    "            optimizer1.zero_grad()\n",
    "            # sample batch_size * 10 matrix of uniform distributed noise\n",
    "            noise = sample_noise(batch_size).to(device)\n",
    "            outputs_fake = D(G(noise).detach())\n",
    "            outputs_real = D(inputs)\n",
    "            loss = criterion(outputs_real, labels_real) + criterion(outputs_fake, labels_fake)\n",
    "            loss.backward()\n",
    "            optimizer1.step()\n",
    "            running_loss += loss.item()\n",
    "            if i % 100 == 99:   # print every 1000 mini-batches\n",
    "                print('\\t[%d, %5d] D loss: %.9f' %\n",
    "                      (d + 1, i + 1, running_loss / 99))\n",
    "                loss_d.append(running_loss)\n",
    "                running_loss = 0.0\n",
    "\n",
    "    # 1 training step for G\n",
    "    print(\"\\t\\t Running %dth iteration on G\" % epoch)\n",
    "    running_loss = 0.0\n",
    "    for i in range(200):\n",
    "        optimizer2.zero_grad()\n",
    "        noise = sample_noise(batch_size).to(device)\n",
    "        loss = -criterion(D(G(noise)), labels_fake)\n",
    "        loss.backward()\n",
    "        optimizer2.step()\n",
    "        running_loss += loss.item()\n",
    "        if i % 100 == 99:   # print every 1000 mini-batches\n",
    "                print('\\t[%d, %5d] G loss: %.9f' %\n",
    "                      (d + 1, i + 1, running_loss / 99))\n",
    "                loss_g.append(running_loss)\n",
    "                running_loss = 0.0\n",
    "\n",
    "print('Finished Training')"
   ]
  },
  {
   "cell_type": "code",
   "execution_count": 111,
   "metadata": {},
   "outputs": [
    {
     "data": {
      "image/png": "[encoded data removed]",
      "text/plain": [
       "<Figure size 432x288 with 1 Axes>"
      ]
     },
     "metadata": {
      "needs_background": "light"
     },
     "output_type": "display_data"
    }
   ],
   "source": [
    "plot_losses(loss_g, loss_d)"
   ]
  },
  {
   "cell_type": "code",
   "execution_count": 112,
   "metadata": {
    "scrolled": true
   },
   "outputs": [
    {
     "name": "stdout",
     "output_type": "stream",
     "text": [
      "tensor([[0.0134]], device='cuda:0')\n",
      "torch.Size([1, 784])\n",
      "torch.Size([28, 28])\n"
     ]
    },
    {
     "data": {
      "image/png": "[encoded data removed]",
      "text/plain": [
       "<Figure size 432x288 with 1 Axes>"
      ]
     },
     "metadata": {
      "needs_background": "light"
     },
     "output_type": "display_data"
    },
    {
     "name": "stdout",
     "output_type": "stream",
     "text": [
      "tensor([[1., 0.]], device='cuda:0', grad_fn=<SoftmaxBackward>)\n",
      "tensor([[9.9996e-01, 4.2629e-05]], device='cuda:0', grad_fn=<SoftmaxBackward>)\n"
     ]
    },
    {
     "data": {
      "image/png": "[encoded data removed]",
      "text/plain": [
       "<Figure size 432x288 with 1 Axes>"
      ]
     },
     "metadata": {
      "needs_background": "light"
     },
     "output_type": "display_data"
    }
   ],
   "source": [
    "s = sample_noise(1).cuda()\n",
    "\n",
    "print(s)\n",
    "\n",
    "a = G(s)\n",
    "print(a.shape)\n",
    "a = torch.reshape(G(s), (28,28)).cpu()\n",
    "print(a.shape)\n",
    "img = torchvision.utils.make_grid(a)\n",
    "\n",
    "#img = img / 2 + 0.5     # unnormalize\n",
    "npimg = img.detach().numpy()\n",
    "#plt.imshow(np.transpose(npimg, (1, 2, 0)))\n",
    "plt.imshow(a.detach().numpy())\n",
    "plt.show()\n",
    "\n",
    "\n",
    "print(D(G(s).detach()))\n",
    "\n",
    "\n",
    "trainloader, validation_loader, test_loader = load_mnist_minibatched(batch_size)\n",
    "\n",
    "# get some random training images\n",
    "dataiter = iter(trainloader)\n",
    "images, labels = dataiter.next()\n",
    "\n",
    "print(D(images[0].to(device)))\n",
    "\n",
    "img = torchvision.utils.make_grid(images[0])\n",
    "\n",
    "img = img / 2 + 0.5\n",
    "#print(images[0])\n",
    "npimg = img.numpy()\n",
    "plt.imshow(np.transpose(npimg, (1, 2, 0)))\n",
    "plt.show()\n"
   ]
  },
  {
   "cell_type": "code",
   "execution_count": null,
   "metadata": {},
   "outputs": [],
   "source": []
  },
  {
   "cell_type": "code",
   "execution_count": null,
   "metadata": {},
   "outputs": [],
   "source": []
  }
 ],
 "metadata": {
  "kernelspec": {
   "display_name": "Python 3",
   "language": "python",
   "name": "python3"
  },
  "language_info": {
   "codemirror_mode": {
    "name": "ipython",
    "version": 3
   },
   "file_extension": ".py",
   "mimetype": "text/x-python",
   "name": "python",
   "nbconvert_exporter": "python",
   "pygments_lexer": "ipython3",
   "version": "3.8.1"
  }
 },
 "nbformat": 4,
 "nbformat_minor": 2
}
